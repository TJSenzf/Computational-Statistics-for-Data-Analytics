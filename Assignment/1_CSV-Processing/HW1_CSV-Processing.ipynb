{
 "cells": [
  {
   "cell_type": "markdown",
   "id": "9d126e60",
   "metadata": {},
   "source": [
    "## Homework 01: due 22:00, Friday, September 30, 2022\n",
    "\n",
    "### -\tPlease work on this Jupyter notebook directly.\n",
    "### -\tName a folder using your student id and Assignment number (e.g., b88501045-HW1), put all the python scripts and notebook files into the folder and zip the folder (e.g., b88501045-HW1.zip).\n",
    "### - Submit the homework directly through the NTU COOL course website.\n"
   ]
  },
  {
   "cell_type": "markdown",
   "id": "ccc36bac",
   "metadata": {},
   "source": [
    "### You will work with the attached CSV data file _Rain_MD-Androy-Bekily_1d_19810101-20211231_CHIRPS.csv_, and your specific tasks are:"
   ]
  },
  {
   "cell_type": "markdown",
   "id": "004151ea",
   "metadata": {},
   "source": [
    "#### 0. import essential modules"
   ]
  },
  {
   "cell_type": "code",
   "execution_count": 161,
   "id": "c127409c",
   "metadata": {},
   "outputs": [],
   "source": [
    "import pandas as pd\n",
    "import numpy as np\n",
    "import matplotlib.pyplot as plt"
   ]
  },
  {
   "cell_type": "markdown",
   "id": "036ea4f3",
   "metadata": {},
   "source": [
    "#### 1. (5% + 5%) Import CSV data file, and make column 'date' datetime format "
   ]
  },
  {
   "cell_type": "code",
   "execution_count": 162,
   "id": "673d89b1",
   "metadata": {},
   "outputs": [],
   "source": [
    "fn_data_in = './Data/Rain_MD-Androy-Bekily_1d_19810101-20211231_CHIRPS.csv'\n",
    "\n",
    "hw1_rain = pd.read_csv(fn_data_in)\n",
    "\n",
    "hw1_rain['date']=pd.to_datetime(hw1_rain['date'],format='%Y/%m/%d')\n",
    "\n",
    "\n",
    "# hw1_rain.head(5)"
   ]
  },
  {
   "cell_type": "markdown",
   "id": "b6c973c2",
   "metadata": {},
   "source": [
    "#### 2. (25% + 5%) Calculate rainfall totals for each year, and make a line plot illustrating the annual rainfall for location \"1_9943\". The x-axis is for time (in year) and the y-axis for rainfall totals (in mm), respectively. There shall be plot title ('annual rainfall'), legend and text labels for x- and y-axes for the plot."
   ]
  },
  {
   "cell_type": "code",
   "execution_count": 163,
   "id": "27489205",
   "metadata": {},
   "outputs": [],
   "source": [
    "hw1_rain_year_sum = hw1_rain.resample('1Y', on='date').sum()\n"
   ]
  },
  {
   "cell_type": "code",
   "execution_count": 164,
   "id": "0652741c",
   "metadata": {},
   "outputs": [],
   "source": [
    "location = hw1_rain_year_sum.iloc[0:]['1_9943']\n",
    "\n",
    "# location"
   ]
  },
  {
   "cell_type": "code",
   "execution_count": 165,
   "id": "d0300ab0",
   "metadata": {},
   "outputs": [],
   "source": [
    "df = pd.DataFrame(location)\n",
    "\n",
    "# df\n",
    "first_column = df.columns[0]\n",
    "# print(first_column)\n",
    "first_col_data = df[first_column]\n",
    "\n",
    "# print(first_col_data)\n",
    "# print(location.index)\n",
    "x = location.index\n",
    "y = first_col_data\n",
    "# x\n"
   ]
  },
  {
   "cell_type": "code",
   "execution_count": 166,
   "id": "a514aa03",
   "metadata": {},
   "outputs": [
    {
     "data": {
      "image/png": "[encoded data removed]",
      "text/plain": [
       "<Figure size 432x288 with 1 Axes>"
      ]
     },
     "metadata": {
      "needs_background": "light"
     },
     "output_type": "display_data"
    }
   ],
   "source": [
    "\n",
    "fig = plt.figure()          \n",
    "ax = fig.add_subplot(111)\n",
    "\n",
    "plt.plot(x, y, label='1_9943')\n",
    "plt.title(\"annual rainfall\")\n",
    "plt.xlabel(\"Time(year)\")\n",
    "plt.ylabel(\"Rainfall totals(mm)\")\n",
    "leg = ax.legend( loc = 'upper right', shadow=True)\n",
    "plt.show()"
   ]
  },
  {
   "cell_type": "markdown",
   "id": "532ca896",
   "metadata": {},
   "source": [
    "#### 3. (25% + 5%) Calculate maximum 1-day rainfall for each month, and export to a CSV file named _Rain_MD-Androy-Bekily_1d-1M-Mean_19810101-20211231_CHIRPS.csv_ "
   ]
  },
  {
   "cell_type": "code",
   "execution_count": 167,
   "id": "367441bf",
   "metadata": {},
   "outputs": [],
   "source": [
    "hw1_rain_month_max = hw1_rain.resample('1M', on='date').max()\n",
    "\n",
    "# print(hw1_rain_month_max)\n",
    "\n",
    "fn_data_out = './Rain_MD-Androy-Bekily_1d-1M-Mean_19810101-20211231_CHIRPS.csv'\n",
    "hw1_rain_month_max.to_csv(fn_data_out, float_format='%.2f')"
   ]
  },
  {
   "cell_type": "markdown",
   "id": "187cb8c4",
   "metadata": {},
   "source": [
    "#### 4. (25% + 5%) Calculate maximum 3 calendar-day rainfall for calendar month November for each year, and export to a CSV file named _Rain_MD-Androy-Bekily_3d-Nov-Max_19810101-20210530_CHIRPS.csv_ "
   ]
  },
  {
   "cell_type": "code",
   "execution_count": 168,
   "id": "1a411a7a",
   "metadata": {},
   "outputs": [],
   "source": [
    "hw1_rain_3d_sum = hw1_rain.resample('3D', on='date').sum()\n",
    "\n",
    "hw1_rain_3d_max = hw1_rain_3d_sum.resample('1M').max()\n",
    "hw1_rain_3d_max['date']=hw1_rain_3d_max.index\n",
    "# print(hw1_rain_3d_max)\n",
    "hw1_rain_nov_max = hw1_rain_3d_max[hw1_rain_3d_max['date'].dt.month == 11]\n",
    "\n",
    "# print(hw1_rain_nov_max)\n",
    "\n",
    "fn_data_out_1 = './Rain_MD-Androy-Bekily_3d-NOV-MAX_19810101-20211231_CHIRPS.csv'\n",
    "\n",
    "hw1_rain_nov_max.to_csv(fn_data_out_1, float_format='%.2f')\n"
   ]
  },
  {
   "cell_type": "markdown",
   "id": "400d8a0b",
   "metadata": {},
   "source": [
    "### For your reference, CHIRPS (Climate Hazards Group InfraRed Precipitation with Station data) is a satellite-based precipitation product. It has provided quasi-global rainfall estimate for over 35 years. You can find more information about CHRIPS via this link: https://www.nature.com/articles/sdata201566\n",
    "\n",
    "### The CSV data file you work with here was clipped over a town called Bekily in the region of Androy Province, Madagascar. Farmers from Bekily are one of the poorest in the world, having no resources to build irrigation system, thus suffering a lot from the drought ( a consequence of climate change, impacting many regions in the world). "
   ]
  },
  {
   "cell_type": "code",
   "execution_count": null,
   "id": "d173cba1",
   "metadata": {},
   "outputs": [],
   "source": []
  }
 ],
 "metadata": {
  "kernelspec": {
   "display_name": "Python 3.9.12 ('base')",
   "language": "python",
   "name": "python3"
  },
  "language_info": {
   "codemirror_mode": {
    "name": "ipython",
    "version": 3
   },
   "file_extension": ".py",
   "mimetype": "text/x-python",
   "name": "python",
   "nbconvert_exporter": "python",
   "pygments_lexer": "ipython3",
   "version": "3.9.12"
  },
  "vscode": {
   "interpreter": {
    "hash": "ad2bdc8ecc057115af97d19610ffacc2b4e99fae6737bb82f5d7fb13d2f2c186"
   }
  }
 },
 "nbformat": 4,
 "nbformat_minor": 5
}
